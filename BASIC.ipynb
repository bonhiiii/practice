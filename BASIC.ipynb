{
 "cells": [
  {
   "cell_type": "code",
   "execution_count": 4,
   "metadata": {},
   "outputs": [
    {
     "name": "stdout",
     "output_type": "stream",
     "text": [
      "['rice', 'potato', 'masala', 'noodles']\n",
      "['rice', 'potato', 'masala', 'noodles', 'water']\n"
     ]
    }
   ],
   "source": [
    "grocery_list = [\"rice\", \"potato\", \"masala\", \"noodles\"]\n",
    "print(grocery_list)\n",
    "grocery_list.append(\"water\")\n",
    "print(grocery_list)\n",
    "\n"
   ]
  },
  {
   "cell_type": "code",
   "execution_count": 7,
   "metadata": {},
   "outputs": [
    {
     "name": "stdout",
     "output_type": "stream",
     "text": [
      "['bangladesh', 'afganistan', 'bhutan', 'nepal', 'india', 'pakistan', 'srilanka']\n",
      "nepal\n",
      "number of countries in saarc: 7\n"
     ]
    }
   ],
   "source": [
    "saarc = [\"bangladesh\", \"afganistan\", \"bhutan\", \"nepal\", \"india\", \"pakistan\", \"srilanka\"]\n",
    "print(saarc)\n",
    "print(saarc[3])\n",
    "print(\"number of countries in saarc:\", len(saarc) \n",
    ")\n"
   ]
  },
  {
   "cell_type": "code",
   "execution_count": 8,
   "metadata": {},
   "outputs": [
    {
     "name": "stdout",
     "output_type": "stream",
     "text": [
      "2\n",
      "3\n",
      "4\n",
      "5\n",
      "6\n",
      "7\n",
      "8\n",
      "9\n",
      "10\n",
      "11\n",
      "12\n",
      "13\n",
      "14\n",
      "15\n",
      "16\n",
      "17\n",
      "18\n",
      "19\n",
      "20\n",
      "21\n",
      "22\n",
      "23\n",
      "24\n",
      "25\n",
      "26\n",
      "27\n",
      "28\n",
      "29\n",
      "30\n",
      "31\n",
      "32\n",
      "33\n",
      "34\n",
      "35\n",
      "36\n",
      "37\n",
      "38\n",
      "39\n",
      "40\n",
      "41\n",
      "42\n",
      "43\n",
      "44\n",
      "45\n",
      "46\n",
      "47\n",
      "48\n",
      "49\n",
      "50\n",
      "51\n"
     ]
    }
   ],
   "source": [
    "result = 0\n",
    "number = 1\n",
    "for i in range(50):\n",
    "    result = number + result\n",
    "    number = number + 1\n",
    "    print(number)\n",
    "    \n"
   ]
  },
  {
   "cell_type": "code",
   "execution_count": 11,
   "metadata": {},
   "outputs": [
    {
     "name": "stdout",
     "output_type": "stream",
     "text": [
      "your grade is:  A-\n"
     ]
    }
   ],
   "source": [
    "marks = input('enter your marks: ')\n",
    "marks = int(marks)\n",
    "if marks >= 80:\n",
    "    grade = \"A+\"\n",
    "elif marks >= 70:\n",
    "    grade = \"A\"\n",
    "elif marks >= 60:\n",
    "    grade = \"A-\"\n",
    "else:\n",
    "    grade = \"F\"\n",
    "print(\"your grade is: \", grade)\n",
    "\n",
    "\n"
   ]
  },
  {
   "cell_type": "code",
   "execution_count": 16,
   "metadata": {},
   "outputs": [],
   "source": [
    "numbers = [6, 1, 3, 9, 2, 5, 0]\n",
    "max_n = numbers[5]\n",
    "for n in numbers:\n",
    "    if n > max_n:\n",
    "        max_n = n"
   ]
  },
  {
   "cell_type": "code",
   "execution_count": 18,
   "metadata": {},
   "outputs": [],
   "source": [
    "def leap_year(year):\n",
    "    if year %4 == 0:\n",
    "        if year %100 == 0 and year %400 != 0:\n",
    "            return False\n",
    "        else:\n",
    "            True\n",
    "    else:\n",
    "        return False\n",
    "                \n"
   ]
  },
  {
   "cell_type": "code",
   "execution_count": 19,
   "metadata": {},
   "outputs": [
    {
     "name": "stdout",
     "output_type": "stream",
     "text": [
      "maximum :  65\n"
     ]
    }
   ],
   "source": [
    "n1 = 50\n",
    "n2 = 60\n",
    "n3 = 65\n",
    "if n1 > n2:\n",
    "    max_n = n1\n",
    "else:\n",
    "    max_n = n2\n",
    "if n3 > max_n:\n",
    "    max_n = n3\n",
    "print(\"maximum : \",max_n)"
   ]
  },
  {
   "cell_type": "code",
   "execution_count": null,
   "metadata": {},
   "outputs": [],
   "source": []
  }
 ],
 "metadata": {
  "kernelspec": {
   "display_name": "Python 3",
   "language": "python",
   "name": "python3"
  },
  "language_info": {
   "codemirror_mode": {
    "name": "ipython",
    "version": 3
   },
   "file_extension": ".py",
   "mimetype": "text/x-python",
   "name": "python",
   "nbconvert_exporter": "python",
   "pygments_lexer": "ipython3",
   "version": "3.10.1"
  },
  "orig_nbformat": 4,
  "vscode": {
   "interpreter": {
    "hash": "de66d7802e14fb2e8694b63e255d0fe3514f0a531cbbfb87d1ecc51a74f4db4d"
   }
  }
 },
 "nbformat": 4,
 "nbformat_minor": 2
}
